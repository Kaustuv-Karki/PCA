{
 "cells": [
  {
   "attachments": {},
   "cell_type": "markdown",
   "metadata": {},
   "source": [
    "1.PLOT THE RANDOM Data\n",
    "2.Create a 2 * 2 matrix sampled from a uniform distribution with values between 0 and 1\n",
    "3.Multiply the matrices 1 and 3\n",
    "4.plot the product\n",
    "5.Calculate the variance along dominant direction and the direction perpendicular to it\n",
    "6.Covaraince matrix\n",
    "7.Eigen values\n",
    "8.Proportion of variances\n",
    "9.Y=PX\n",
    "10.SY Calculate the covaraince matix of y"
   ]
  },
  {
   "cell_type": "code",
   "execution_count": 129,
   "metadata": {},
   "outputs": [],
   "source": [
    "import numpy as np\n",
    "import matplotlib.pyplot as plt"
   ]
  },
  {
   "cell_type": "code",
   "execution_count": 130,
   "metadata": {},
   "outputs": [],
   "source": [
    "X = np.random.randn(20,2)"
   ]
  },
  {
   "cell_type": "code",
   "execution_count": 131,
   "metadata": {},
   "outputs": [
    {
     "data": {
      "text/plain": [
       "(20, 2)"
      ]
     },
     "execution_count": 131,
     "metadata": {},
     "output_type": "execute_result"
    }
   ],
   "source": [
    "X.shape"
   ]
  },
  {
   "cell_type": "code",
   "execution_count": 132,
   "metadata": {},
   "outputs": [
    {
     "data": {
      "text/plain": [
       "0.15363123009870897"
      ]
     },
     "execution_count": 132,
     "metadata": {},
     "output_type": "execute_result"
    }
   ],
   "source": [
    "X.mean()"
   ]
  },
  {
   "cell_type": "code",
   "execution_count": 133,
   "metadata": {},
   "outputs": [
    {
     "data": {
      "text/plain": [
       "1.3040927912493283"
      ]
     },
     "execution_count": 133,
     "metadata": {},
     "output_type": "execute_result"
    }
   ],
   "source": [
    "X.std()"
   ]
  },
  {
   "cell_type": "code",
   "execution_count": 134,
   "metadata": {},
   "outputs": [],
   "source": [
    "import matplotlib.patches as mpatches"
   ]
  },
  {
   "cell_type": "code",
   "execution_count": 135,
   "metadata": {},
   "outputs": [
    {
     "data": {
      "image/png": "[encoded data removed]",
      "text/plain": [
       "<Figure size 640x480 with 1 Axes>"
      ]
     },
     "metadata": {},
     "output_type": "display_data"
    }
   ],
   "source": [
    "plt.scatter(X[:,0], X[:,1], linewidths=1)\n",
    "plt.title(\"Random Points Plot\")\n",
    "one = mpatches.Patch(facecolor='#f3f300', label='THA076BCT017', linewidth = 0)\n",
    "two = mpatches.Patch(facecolor='#ff9700', label = 'THA076BCT022', linewidth = 0)\n",
    "plt.xlabel(\"X\")\n",
    "plt.ylabel(\"Y\")\n",
    "legend = plt.legend(handles=[one, two],fontsize = 'small')"
   ]
  },
  {
   "cell_type": "code",
   "execution_count": 136,
   "metadata": {},
   "outputs": [],
   "source": [
    "x1 = np.random.rand(2,2)"
   ]
  },
  {
   "cell_type": "code",
   "execution_count": 137,
   "metadata": {},
   "outputs": [
    {
     "data": {
      "text/plain": [
       "array([[0.84042085, 0.04714549],\n",
       "       [0.4104542 , 0.92069596]])"
      ]
     },
     "execution_count": 137,
     "metadata": {},
     "output_type": "execute_result"
    }
   ],
   "source": [
    "x1"
   ]
  },
  {
   "cell_type": "code",
   "execution_count": 138,
   "metadata": {},
   "outputs": [],
   "source": [
    "xx = np.random.rand(2,2)"
   ]
  },
  {
   "cell_type": "code",
   "execution_count": 139,
   "metadata": {},
   "outputs": [
    {
     "data": {
      "text/plain": [
       "array([[0.93027732, 0.57915376],\n",
       "       [0.80574508, 0.41268744]])"
      ]
     },
     "execution_count": 139,
     "metadata": {},
     "output_type": "execute_result"
    }
   ],
   "source": [
    "xx"
   ]
  },
  {
   "cell_type": "code",
   "execution_count": 140,
   "metadata": {},
   "outputs": [],
   "source": [
    "Y = np.matmul(X, x1)"
   ]
  },
  {
   "cell_type": "code",
   "execution_count": 141,
   "metadata": {},
   "outputs": [
    {
     "data": {
      "text/plain": [
       "array([[-0.86764351,  0.75183849],\n",
       "       [-0.81742727, -2.04016219],\n",
       "       [ 0.98578882,  2.27346585],\n",
       "       [-0.92810713,  1.44057735],\n",
       "       [ 0.23694944, -0.81426449],\n",
       "       [ 0.31056568,  1.24697259],\n",
       "       [-0.55248956,  0.56124842],\n",
       "       [-0.03248404, -0.23568222],\n",
       "       [-0.21153076, -0.37146103],\n",
       "       [ 0.58321631, -1.40406938],\n",
       "       [-0.30503825, -0.49401828],\n",
       "       [ 2.44979632,  0.84739339],\n",
       "       [ 0.56436003,  1.27252896],\n",
       "       [ 1.15233925, -0.55798506],\n",
       "       [-1.44706793, -3.21705095],\n",
       "       [ 0.89175107,  0.75966992],\n",
       "       [-0.10438697,  1.27964607],\n",
       "       [ 0.87991509,  1.01090733],\n",
       "       [-0.69356722,  0.82253817],\n",
       "       [ 1.83827318, -0.34060786]])"
      ]
     },
     "execution_count": 141,
     "metadata": {},
     "output_type": "execute_result"
    }
   ],
   "source": [
    "Y"
   ]
  },
  {
   "cell_type": "code",
   "execution_count": 142,
   "metadata": {},
   "outputs": [],
   "source": [
    "YY = Y"
   ]
  },
  {
   "cell_type": "code",
   "execution_count": 143,
   "metadata": {},
   "outputs": [],
   "source": [
    "# Y = np.array([[ 0.17228367, -0.35572761],\n",
    "#        [ 0.09509445,  0.04755313],\n",
    "#        [ 1.30644702,  1.42394103],\n",
    "#        [ 0.77933162,  1.20271677],\n",
    "#        [-0.38566011, -0.43910261],\n",
    "#        [ 1.10621625,  1.09057904],\n",
    "#        [-1.48720583, -1.34795002],\n",
    "#        [ 0.00429295, -0.34956553],\n",
    "#        [ 1.02626777,  1.37668365],\n",
    "#        [-0.95959178, -0.89965828],\n",
    "#        [-1.14561423, -1.04713418],\n",
    "#        [-0.98447538, -1.03853167],\n",
    "#        [-0.14255945,  0.47310721],\n",
    "#        [ 0.70024279,  0.28004251],\n",
    "#        [ 0.27078195,  0.12717653],\n",
    "#        [ 0.17891352, -0.01386016],\n",
    "#        [-0.42626642, -0.81423587],\n",
    "#        [-1.16252426, -1.10192173],\n",
    "#        [ 1.28363497,  1.19691287],\n",
    "#        [ 1.25064801,  1.17237042]])"
   ]
  },
  {
   "cell_type": "code",
   "execution_count": 144,
   "metadata": {},
   "outputs": [
    {
     "data": {
      "text/plain": [
       "array([[-0.86764351,  0.75183849],\n",
       "       [-0.81742727, -2.04016219],\n",
       "       [ 0.98578882,  2.27346585],\n",
       "       [-0.92810713,  1.44057735],\n",
       "       [ 0.23694944, -0.81426449],\n",
       "       [ 0.31056568,  1.24697259],\n",
       "       [-0.55248956,  0.56124842],\n",
       "       [-0.03248404, -0.23568222],\n",
       "       [-0.21153076, -0.37146103],\n",
       "       [ 0.58321631, -1.40406938],\n",
       "       [-0.30503825, -0.49401828],\n",
       "       [ 2.44979632,  0.84739339],\n",
       "       [ 0.56436003,  1.27252896],\n",
       "       [ 1.15233925, -0.55798506],\n",
       "       [-1.44706793, -3.21705095],\n",
       "       [ 0.89175107,  0.75966992],\n",
       "       [-0.10438697,  1.27964607],\n",
       "       [ 0.87991509,  1.01090733],\n",
       "       [-0.69356722,  0.82253817],\n",
       "       [ 1.83827318, -0.34060786]])"
      ]
     },
     "execution_count": 144,
     "metadata": {},
     "output_type": "execute_result"
    }
   ],
   "source": [
    "Y"
   ]
  },
  {
   "cell_type": "code",
   "execution_count": 145,
   "metadata": {},
   "outputs": [
    {
     "data": {
      "image/png": "[encoded data removed]",
      "text/plain": [
       "<Figure size 640x480 with 1 Axes>"
      ]
     },
     "metadata": {},
     "output_type": "display_data"
    }
   ],
   "source": [
    "plt.xlim(-5,5)\n",
    "plt.ylim(-5,5)\n",
    "plt.grid()\n",
    "plt.title(\"Plot after Matrix Multiplication\")\n",
    "plt.axhline(y=0, color=\"g\")\n",
    "plt.axvline(x=0, color=\"g\")\n",
    "plt.xlabel(\"X\")\n",
    "plt.ylabel(\"Y\")\n",
    "plt.scatter(Y[:,0], Y[:,1], linewidths=0.01)\n",
    "one = mpatches.Patch(facecolor='#f3f300', label='THA076BCT017', linewidth = 0)\n",
    "two = mpatches.Patch(facecolor='#ff9700', label = 'THA076BCT022', linewidth = 0)\n",
    "legend = plt.legend(handles=[one, two],fontsize = 'small')"
   ]
  },
  {
   "cell_type": "code",
   "execution_count": 146,
   "metadata": {},
   "outputs": [
    {
     "data": {
      "text/plain": [
       "0.9300012198222051"
      ]
     },
     "execution_count": 146,
     "metadata": {},
     "output_type": "execute_result"
    }
   ],
   "source": [
    "# Varaiance of the matrix\n",
    "np.var(Y[:,0])"
   ]
  },
  {
   "cell_type": "code",
   "execution_count": 147,
   "metadata": {},
   "outputs": [
    {
     "data": {
      "text/plain": [
       "1.6775526683953021"
      ]
     },
     "execution_count": 147,
     "metadata": {},
     "output_type": "execute_result"
    }
   ],
   "source": [
    "# Variance of the matrix\n",
    "np.var(Y[:,1])"
   ]
  },
  {
   "cell_type": "code",
   "execution_count": 148,
   "metadata": {},
   "outputs": [],
   "source": [
    "# Covariance of the matrix\n",
    "cov_matrix = np.cov(Y.T)"
   ]
  },
  {
   "cell_type": "code",
   "execution_count": 149,
   "metadata": {},
   "outputs": [
    {
     "data": {
      "text/plain": [
       "array([[0.97894865, 0.40610448],\n",
       "       [0.40610448, 1.76584491]])"
      ]
     },
     "execution_count": 149,
     "metadata": {},
     "output_type": "execute_result"
    }
   ],
   "source": [
    "cov_matrix"
   ]
  },
  {
   "cell_type": "code",
   "execution_count": 150,
   "metadata": {},
   "outputs": [
    {
     "data": {
      "text/plain": [
       "array([[1.0196596 , 0.43499792],\n",
       "       [0.43499792, 1.7863512 ]])"
      ]
     },
     "execution_count": 150,
     "metadata": {},
     "output_type": "execute_result"
    }
   ],
   "source": [
    "# Variance of the corrlated data\n",
    "np.matmul(Y.T, Y) / (Y.shape[0] -1)"
   ]
  },
  {
   "cell_type": "code",
   "execution_count": 151,
   "metadata": {},
   "outputs": [
    {
     "data": {
      "text/plain": [
       "array([[ 1.46977313, -0.55426861],\n",
       "       [-0.55426861,  2.16024911]])"
      ]
     },
     "execution_count": 151,
     "metadata": {},
     "output_type": "execute_result"
    }
   ],
   "source": [
    "# Varinance of random data\n",
    "np.matmul(X.T, X) / (X.shape[0] -1)"
   ]
  },
  {
   "cell_type": "code",
   "execution_count": 152,
   "metadata": {},
   "outputs": [],
   "source": [
    "from numpy.linalg import eig"
   ]
  },
  {
   "cell_type": "code",
   "execution_count": 153,
   "metadata": {},
   "outputs": [],
   "source": [
    "eigen_values, eigen_vectors = eig(cov_matrix)"
   ]
  },
  {
   "cell_type": "code",
   "execution_count": 154,
   "metadata": {},
   "outputs": [
    {
     "data": {
      "text/plain": [
       "array([0.80695688, 1.93783669])"
      ]
     },
     "execution_count": 154,
     "metadata": {},
     "output_type": "execute_result"
    }
   ],
   "source": [
    "eigen_values"
   ]
  },
  {
   "cell_type": "code",
   "execution_count": 155,
   "metadata": {},
   "outputs": [
    {
     "data": {
      "text/plain": [
       "array([[-0.92082208, -0.38998294],\n",
       "       [ 0.38998294, -0.92082208]])"
      ]
     },
     "execution_count": 155,
     "metadata": {},
     "output_type": "execute_result"
    }
   ],
   "source": [
    "eigen_vectors"
   ]
  },
  {
   "cell_type": "code",
   "execution_count": 156,
   "metadata": {},
   "outputs": [],
   "source": [
    "# proportion of variance\n",
    "total = np.sum(eigen_values)"
   ]
  },
  {
   "cell_type": "code",
   "execution_count": 157,
   "metadata": {},
   "outputs": [],
   "source": [
    "# gives the proportion of variance explained by a particular eigen value/ pricipal component in the dataset \n",
    "def explained_variance(eigenvalues):\n",
    "    sum = eigenvalues.sum()\n",
    "    return (eigenvalues/sum) * 100"
   ]
  },
  {
   "cell_type": "code",
   "execution_count": 158,
   "metadata": {},
   "outputs": [],
   "source": [
    "value = explained_variance(eigen_values)"
   ]
  },
  {
   "cell_type": "code",
   "execution_count": 159,
   "metadata": {},
   "outputs": [
    {
     "data": {
      "text/plain": [
       "array([29.3995472, 70.6004528])"
      ]
     },
     "execution_count": 159,
     "metadata": {},
     "output_type": "execute_result"
    }
   ],
   "source": [
    "value"
   ]
  },
  {
   "cell_type": "code",
   "execution_count": 160,
   "metadata": {},
   "outputs": [],
   "source": [
    "transformed = np.matmul(eigen_vectors.T, Y.T).T"
   ]
  },
  {
   "cell_type": "code",
   "execution_count": 161,
   "metadata": {},
   "outputs": [
    {
     "data": {
      "text/plain": [
       "(20, 2)"
      ]
     },
     "execution_count": 161,
     "metadata": {},
     "output_type": "execute_result"
    }
   ],
   "source": [
    "Y.shape"
   ]
  },
  {
   "cell_type": "code",
   "execution_count": 162,
   "metadata": {},
   "outputs": [
    {
     "data": {
      "text/plain": [
       "(20, 2)"
      ]
     },
     "execution_count": 162,
     "metadata": {},
     "output_type": "execute_result"
    }
   ],
   "source": [
    "transformed.shape"
   ]
  },
  {
   "cell_type": "code",
   "execution_count": 163,
   "metadata": {},
   "outputs": [
    {
     "data": {
      "text/plain": [
       "array([[8.06956880e-01, 9.95898493e-18],\n",
       "       [9.95898493e-18, 1.93783669e+00]])"
      ]
     },
     "execution_count": 163,
     "metadata": {},
     "output_type": "execute_result"
    }
   ],
   "source": [
    "np.cov(transformed.T)"
   ]
  },
  {
   "cell_type": "code",
   "execution_count": 164,
   "metadata": {},
   "outputs": [
    {
     "data": {
      "image/png": "[encoded data removed]",
      "text/plain": [
       "<Figure size 640x480 with 1 Axes>"
      ]
     },
     "metadata": {},
     "output_type": "display_data"
    }
   ],
   "source": [
    "plt.xlim(-5,5)\n",
    "plt.ylim(-5,5)\n",
    "plt.grid()\n",
    "plt.title(\"Plot of Transformed Data\")\n",
    "plt.axhline(y=0, color=\"g\")\n",
    "plt.axvline(x=0, color=\"g\")\n",
    "plt.scatter(transformed[:,0], transformed[:,1], linewidths=0.01)\n",
    "plt.xlabel(\"Principal Component 1\")\n",
    "plt.ylabel(\"Principal Component 2\")\n",
    "one = mpatches.Patch(facecolor='#f3f300', label='THA076BCT017', linewidth = 0)\n",
    "two = mpatches.Patch(facecolor='#ff9700', label = 'THA076BCT022', linewidth = 0)\n",
    "legend = plt.legend(handles=[one, two],fontsize = 'small')"
   ]
  },
  {
   "cell_type": "code",
   "execution_count": 165,
   "metadata": {},
   "outputs": [
    {
     "data": {
      "text/plain": [
       "array([-0.92082208,  0.38998294])"
      ]
     },
     "execution_count": 165,
     "metadata": {},
     "output_type": "execute_result"
    }
   ],
   "source": [
    "\n",
    "eigen_vectors.T[0]"
   ]
  },
  {
   "cell_type": "code",
   "execution_count": 166,
   "metadata": {},
   "outputs": [],
   "source": [
    "oned_transformed = np.matmul(eigen_vectors.T[0].T, Y.T).T"
   ]
  },
  {
   "cell_type": "code",
   "execution_count": 167,
   "metadata": {},
   "outputs": [],
   "source": [
    "oned_transformed.shape\n",
    "zeros = np.zeros(oned_transformed.shape[0],)"
   ]
  },
  {
   "cell_type": "code",
   "execution_count": 168,
   "metadata": {},
   "outputs": [
    {
     "data": {
      "text/plain": [
       "(20,)"
      ]
     },
     "execution_count": 168,
     "metadata": {},
     "output_type": "execute_result"
    }
   ],
   "source": [
    "zeros.shape"
   ]
  },
  {
   "cell_type": "code",
   "execution_count": 169,
   "metadata": {},
   "outputs": [
    {
     "data": {
      "image/png": "[encoded data removed]",
      "text/plain": [
       "<Figure size 640x480 with 1 Axes>"
      ]
     },
     "metadata": {},
     "output_type": "display_data"
    }
   ],
   "source": [
    "plt.grid()\n",
    "plt.title(\"Data after performing PCA\")\n",
    "plt.scatter(oned_transformed, zeros)\n",
    "plt.legend([\"17, 22\"])\n",
    "plt.xlabel(\"Principal Component 1\")\n",
    "plt.ylabel(\"Principal Component 2\")\n",
    "one = mpatches.Patch(facecolor='#f3f300', label='THA076BCT017', linewidth = 0)\n",
    "two = mpatches.Patch(facecolor='#ff9700', label = 'THA076BCT022', linewidth = 0)\n",
    "legend = plt.legend(handles=[one, two],fontsize = 'small')"
   ]
  },
  {
   "cell_type": "code",
   "execution_count": null,
   "metadata": {},
   "outputs": [],
   "source": []
  },
  {
   "cell_type": "code",
   "execution_count": 170,
   "metadata": {},
   "outputs": [
    {
     "data": {
      "text/plain": [
       "(20,)"
      ]
     },
     "execution_count": 170,
     "metadata": {},
     "output_type": "execute_result"
    }
   ],
   "source": [
    "oned_transformed.shape"
   ]
  },
  {
   "cell_type": "code",
   "execution_count": 171,
   "metadata": {},
   "outputs": [],
   "source": [
    "from sklearn.decomposition import PCA\n",
    "\n",
    "pca = PCA(n_components=1, random_state=0)\n",
    "\n",
    "pca.fit(Y)\n",
    "\n",
    "new_Y = pca.transform(Y)"
   ]
  },
  {
   "cell_type": "code",
   "execution_count": 172,
   "metadata": {},
   "outputs": [
    {
     "data": {
      "text/plain": [
       "(20, 1)"
      ]
     },
     "execution_count": 172,
     "metadata": {},
     "output_type": "execute_result"
    }
   ],
   "source": [
    "new_Y.shape"
   ]
  },
  {
   "cell_type": "code",
   "execution_count": 173,
   "metadata": {},
   "outputs": [
    {
     "data": {
      "image/png": "[encoded data removed]",
      "text/plain": [
       "<Figure size 640x480 with 1 Axes>"
      ]
     },
     "metadata": {},
     "output_type": "display_data"
    }
   ],
   "source": [
    "plt.grid()\n",
    "plt.title(\"Data after performing PCA from Scikit-Learn\")\n",
    "plt.scatter(new_Y, zeros)\n",
    "plt.legend([\"17, 22\"])\n",
    "plt.xlabel(\"Principal Component 1\")\n",
    "plt.ylabel(\"Principal Component 2\")\n",
    "one = mpatches.Patch(facecolor='#f3f300', label='THA076BCT017', linewidth = 0)\n",
    "two = mpatches.Patch(facecolor='#ff9700', label = 'THA076BCT022', linewidth = 0)\n",
    "legend = plt.legend(handles=[one, two],fontsize = 'small')"
   ]
  },
  {
   "cell_type": "code",
   "execution_count": null,
   "metadata": {},
   "outputs": [],
   "source": []
  }
 ],
 "metadata": {
  "kernelspec": {
   "display_name": "Python 3",
   "language": "python",
   "name": "python3"
  },
  "language_info": {
   "codemirror_mode": {
    "name": "ipython",
    "version": 3
   },
   "file_extension": ".py",
   "mimetype": "text/x-python",
   "name": "python",
   "nbconvert_exporter": "python",
   "pygments_lexer": "ipython3",
   "version": "3.10.9"
  },
  "orig_nbformat": 4
 },
 "nbformat": 4,
 "nbformat_minor": 2
}
